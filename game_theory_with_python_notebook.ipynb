{
  "nbformat": 4,
  "nbformat_minor": 0,
  "metadata": {
    "kernelspec": {
      "display_name": "Python 3",
      "language": "python",
      "name": "python3"
    },
    "language_info": {
      "codemirror_mode": {
        "name": "ipython",
        "version": 3
      },
      "file_extension": ".py",
      "mimetype": "text/x-python",
      "name": "python",
      "nbconvert_exporter": "python",
      "pygments_lexer": "ipython3",
      "version": "3.7.4"
    },
    "colab": {
      "name": "game-theory-with-python-notebook.ipynb",
      "provenance": [],
      "collapsed_sections": []
    }
  },
  "cells": [
    {
      "cell_type": "markdown",
      "metadata": {
        "id": "m80rXVF8I5AN",
        "colab_type": "text"
      },
      "source": [
        "# Game Theory With Python"
      ]
    },
    {
      "cell_type": "markdown",
      "metadata": {
        "id": "a_WtqfivI5AO",
        "colab_type": "text"
      },
      "source": [
        "### Welcome to the course. \n",
        "### Glad to have you onboard in this journey to explore two Game Theory packages in Python\n",
        "\n",
        "#### Nashpy & Axelrod"
      ]
    },
    {
      "cell_type": "markdown",
      "metadata": {
        "id": "8gKmBcHBI5AP",
        "colab_type": "text"
      },
      "source": [
        "#### 7 Tasks\n",
        "#### 1. Create games with Nashpy\n",
        "#### 2. Mixed strategies and Utilities\n",
        "#### 3. Nash Equilibrium\n",
        "#### 4. Games with multiple Nash Equilibria\n",
        "#### 5. Zero Sum Game\n",
        "#### 6. Create repeated game\n",
        "#### 7. Analyze Match"
      ]
    },
    {
      "cell_type": "markdown",
      "metadata": {
        "id": "iQPnHp9SI5AQ",
        "colab_type": "text"
      },
      "source": [
        "## Two Player Games with Nashpy"
      ]
    },
    {
      "cell_type": "markdown",
      "metadata": {
        "id": "fKYKZgVyI5AR",
        "colab_type": "text"
      },
      "source": [
        "## 1. Create 2 player games - Using Nashpy\n",
        "\n",
        "### Consider the following Prisoner's Dilemma matrix\n",
        "\n",
        "![picture](https://drive.google.com/uc?id=1fw7j7O8XLGQR3Rt_c9UK_PE6KgLsFeEw)\n"
      ]
    },
    {
      "cell_type": "code",
      "metadata": {
        "id": "vDUwerlDI5AS",
        "colab_type": "code",
        "colab": {}
      },
      "source": [
        "# Import packages\n",
        "#!pip install nashpy\n",
        "#!pip install axelrod\n",
        "\n",
        "import nashpy as nash\n",
        "import numpy as np"
      ],
      "execution_count": null,
      "outputs": []
    },
    {
      "cell_type": "code",
      "metadata": {
        "id": "D-rB1BgYI5Aa",
        "colab_type": "code",
        "colab": {}
      },
      "source": [
        "# Create the payoff matrix\n",
        "\n",
        "P1 =  # P1 is the row player\n",
        "P2 =  # P2 is the column player\n",
        "pd = \n",
        "pd\n"
      ],
      "execution_count": null,
      "outputs": []
    },
    {
      "cell_type": "markdown",
      "metadata": {
        "id": "mapgZsumI5Ae",
        "colab_type": "text"
      },
      "source": [
        "### Exercise: Create a two player game, where,\n",
        "\n",
        "#### I. Name players as A and B\n",
        "#### II. Name the game as 'gm' and \n",
        "#### III. Use the follwing matrix\n",
        "\n",
        "![picture](https://drive.google.com/uc?id=1eHhyXZVZWQ3oPto4qcbL1EefxUsWq4bp)\n"
      ]
    },
    {
      "cell_type": "code",
      "metadata": {
        "id": "LBZatKa-I5Af",
        "colab_type": "code",
        "colab": {}
      },
      "source": [
        ""
      ],
      "execution_count": null,
      "outputs": []
    },
    {
      "cell_type": "markdown",
      "metadata": {
        "id": "CvPz8NuJI5Aj",
        "colab_type": "text"
      },
      "source": [
        "## 2. Mixed Strategy and Utilities"
      ]
    },
    {
      "cell_type": "markdown",
      "metadata": {
        "id": "6-_cqcSQI5Ak",
        "colab_type": "text"
      },
      "source": [
        "### Pure Strategy: \n",
        "\n",
        "A complete definition of how a player will play a game, it yields optimum payoff to the player. \n",
        "\n",
        "### Mixed Strategy: \n",
        "\n",
        "Assigns a probability to each pure strategy. This allows for a player to randomly select a pure strategy. "
      ]
    },
    {
      "cell_type": "markdown",
      "metadata": {
        "id": "sV3SS2IKI5Am",
        "colab_type": "text"
      },
      "source": [
        "### Calculating Utilities:\n",
        "\n",
        "![picture](https://drive.google.com/uc?id=1eIMuJo8w5EgJC5mLaxT9kzH8-rdQwm3_)\n",
        "\n",
        "#### Consider the following Mixed Strategy\n",
        "\n",
        "σr=(.2,.8) and σc=(.6,.4)\n"
      ]
    },
    {
      "cell_type": "code",
      "metadata": {
        "id": "XPaaw8GXI5An",
        "colab_type": "code",
        "colab": {}
      },
      "source": [
        "# Calculate Utilities\n",
        "\n",
        "sigma_r = \n",
        "sigma_c = \n",
        "pd = nash.Game(P1, P2)\n",
        "pd[sigma_r, sigma_c]"
      ],
      "execution_count": null,
      "outputs": []
    },
    {
      "cell_type": "markdown",
      "metadata": {
        "id": "-nGQbdBQI5A0",
        "colab_type": "text"
      },
      "source": [
        "### Validate the computation"
      ]
    },
    {
      "cell_type": "code",
      "metadata": {
        "id": "pmuAEpSII5Ar",
        "colab_type": "code",
        "colab": {}
      },
      "source": [
        "#ur(σr,σc)\n",
        "ur=0.2*0.6*8+0.2*0.4*1+0.8*0.6*15+0.8*0.4*3\n",
        "ur"
      ],
      "execution_count": null,
      "outputs": []
    },
    {
      "cell_type": "code",
      "metadata": {
        "id": "W6KZrnGxI5Au",
        "colab_type": "code",
        "colab": {}
      },
      "source": [
        "#uc(σr,σc)\n",
        "uc=0.2*0.6*8+0.2*0.4*15+0.8*0.6*1+0.8*0.4*3\n",
        "uc"
      ],
      "execution_count": null,
      "outputs": []
    },
    {
      "cell_type": "markdown",
      "metadata": {
        "id": "Y28VJqzfI5A2",
        "colab_type": "text"
      },
      "source": [
        "### Exercise: Calculate the utilities of the game 'gm' created in the previous exercise, using \n",
        "#### σr=(.3,.7) and σc=(.5,.5)"
      ]
    },
    {
      "cell_type": "code",
      "metadata": {
        "id": "qf6LY92kI5A3",
        "colab_type": "code",
        "colab": {}
      },
      "source": [
        ""
      ],
      "execution_count": null,
      "outputs": []
    },
    {
      "cell_type": "markdown",
      "metadata": {
        "id": "sF4K0KlOI5A7",
        "colab_type": "text"
      },
      "source": [
        "## 3. The Nash Equilibrium\n",
        "\n",
        "Strict and unique Nash Equilibrium\n",
        "\n",
        "![picture](https://drive.google.com/uc?id=1_B9Wk5Sb1jwK1AADXR1xj9n0tmALNykM)"
      ]
    },
    {
      "cell_type": "code",
      "metadata": {
        "id": "H9mFNqgOI5A8",
        "colab_type": "code",
        "colab": {}
      },
      "source": [
        "# Find the Nash Equilibrium with Support Enumeration\n",
        "\n",
        "equilibria = "
      ],
      "execution_count": null,
      "outputs": []
    },
    {
      "cell_type": "markdown",
      "metadata": {
        "id": "faBuCYODI5A_",
        "colab_type": "text"
      },
      "source": [
        "#### Both solutions match"
      ]
    },
    {
      "cell_type": "markdown",
      "metadata": {
        "id": "7nFjsLoUI5BA",
        "colab_type": "text"
      },
      "source": [
        "### Exercise: Find out the Nash Equilibrium for gm"
      ]
    },
    {
      "cell_type": "code",
      "metadata": {
        "id": "-WDnIp6SI5BB",
        "colab_type": "code",
        "colab": {}
      },
      "source": [
        ""
      ],
      "execution_count": null,
      "outputs": []
    },
    {
      "cell_type": "markdown",
      "metadata": {
        "id": "NY2yrKJNI5BG",
        "colab_type": "text"
      },
      "source": [
        "## 4. Games with Multiple Nash Equilibria\n",
        "\n",
        "### Hawk - Dove Game\n",
        "\n",
        "![picture](https://drive.google.com/uc?id=1b8kKho3qu1s5b7Qriq6NYWqJxd5uKI6x)"
      ]
    },
    {
      "cell_type": "code",
      "metadata": {
        "id": "aQg_1AIMI5BG",
        "colab_type": "code",
        "colab": {}
      },
      "source": [
        "P3 =  # P3 is the row player\n",
        "P4 =  # P4 is the column player\n",
        "hd = \n",
        "hd"
      ],
      "execution_count": null,
      "outputs": []
    },
    {
      "cell_type": "markdown",
      "metadata": {
        "id": "HdUrrBQ9I5BK",
        "colab_type": "text"
      },
      "source": [
        "#### Nash Equilibria\n",
        "\n",
        "![picture](https://drive.google.com/uc?id=1JJxdwZ3y6U_hxMH-0l4i6LpuuTVhF5w0)\n"
      ]
    },
    {
      "cell_type": "code",
      "metadata": {
        "id": "BiVKP_72I5BL",
        "colab_type": "code",
        "colab": {}
      },
      "source": [
        "equilibria = "
      ],
      "execution_count": null,
      "outputs": []
    },
    {
      "cell_type": "markdown",
      "metadata": {
        "id": "Xolws3tSI5BO",
        "colab_type": "text"
      },
      "source": [
        "Sol. (D,H)\n",
        "\n",
        "P3 : D = 1, H = 0\n",
        "\n",
        "P4 : D = 0, H = 1\n",
        "\n",
        "Sol. (H,D)\n",
        "\n",
        "P3 : D = 0, H = 1\n",
        "\n",
        "P4 : D = 1, H = 0\n",
        "\n",
        "Sol. (D,D) or (H,H)\n",
        "\n",
        "P3 : D = 0.5, H = 0.5\n",
        "\n",
        "P4 : D = 0.5, H = 0.5\n"
      ]
    },
    {
      "cell_type": "markdown",
      "metadata": {
        "id": "iVaY16XNI5BO",
        "colab_type": "text"
      },
      "source": [
        "### Exercise: Find out the number of NE for the following matrix\n",
        "#### Players: M and N\n",
        "#### Name of game mn\n",
        "\n",
        "\n",
        "![picture](https://drive.google.com/uc?id=1mAeVXw3qHTyzEx4kgMsOlyrP6rJvpKlN)"
      ]
    },
    {
      "cell_type": "code",
      "metadata": {
        "id": "4NW4qyI4I5BP",
        "colab_type": "code",
        "colab": {}
      },
      "source": [
        ""
      ],
      "execution_count": null,
      "outputs": []
    },
    {
      "cell_type": "code",
      "metadata": {
        "id": "dbR3SnMPI5BS",
        "colab_type": "code",
        "colab": {}
      },
      "source": [
        ""
      ],
      "execution_count": null,
      "outputs": []
    },
    {
      "cell_type": "markdown",
      "metadata": {
        "id": "I2_Z8uVlI5BW",
        "colab_type": "text"
      },
      "source": [
        "![picture](https://drive.google.com/uc?id=11UeEgrEh4VYWYAMwyvwLVGZlHT7On2Eo)"
      ]
    },
    {
      "cell_type": "markdown",
      "metadata": {
        "id": "5NhqPum6I5BX",
        "colab_type": "text"
      },
      "source": [
        "## 5. Zero Sum Game\n",
        "\n",
        "Matching the pennies game\n",
        "\n",
        "![picture](https://drive.google.com/uc?id=1DJhLFiRbUah8Cvku03oGP5C2eFuDPxBQ)"
      ]
    },
    {
      "cell_type": "code",
      "metadata": {
        "id": "3w_YHAZTI5BX",
        "colab_type": "code",
        "colab": {}
      },
      "source": [
        "P5 = \n",
        "mp = \n",
        "mp"
      ],
      "execution_count": null,
      "outputs": []
    },
    {
      "cell_type": "code",
      "metadata": {
        "id": "U9bM_W8eI5Bg",
        "colab_type": "code",
        "colab": {}
      },
      "source": [
        "equilibria = "
      ],
      "execution_count": null,
      "outputs": []
    },
    {
      "cell_type": "markdown",
      "metadata": {
        "id": "AwgfpFL-I5Bk",
        "colab_type": "text"
      },
      "source": [
        "### Exercise: Find out the solution for the following zero sum game 'zs'\n",
        "#### Use payoff matrix - np.array([[5, -6.5], [-2.5, 7]]) \n",
        "#### For players Z1 and Z2"
      ]
    },
    {
      "cell_type": "code",
      "metadata": {
        "id": "B9ypJKPZI5Bl",
        "colab_type": "code",
        "colab": {}
      },
      "source": [
        ""
      ],
      "execution_count": null,
      "outputs": []
    },
    {
      "cell_type": "code",
      "metadata": {
        "id": "9qPZdieaI5Bo",
        "colab_type": "code",
        "colab": {}
      },
      "source": [
        ""
      ],
      "execution_count": null,
      "outputs": []
    },
    {
      "cell_type": "markdown",
      "metadata": {
        "id": "eVM0LDlfI5Br",
        "colab_type": "text"
      },
      "source": [
        "## Two Player-Repeated Games with Axelrod"
      ]
    },
    {
      "cell_type": "markdown",
      "metadata": {
        "id": "gJtMM67EI5Bs",
        "colab_type": "text"
      },
      "source": [
        "## 6. Create repeated game"
      ]
    },
    {
      "cell_type": "code",
      "metadata": {
        "id": "-qiWUNZ2I5Bs",
        "colab_type": "code",
        "colab": {}
      },
      "source": [
        "#!pip install -U pyYAML     # Troubleshoot: Execute this line if Axelrod does not run and AttributeError: module 'yaml' has no attribute 'FullLoader' occurs\n",
        "\n",
        "# Import package\n",
        "\n",
        "import axelrod as axl"
      ],
      "execution_count": null,
      "outputs": []
    },
    {
      "cell_type": "code",
      "metadata": {
        "id": "xAlZskFMI5Bv",
        "colab_type": "code",
        "colab": {}
      },
      "source": [
        "# Create matches\n",
        "\n",
        "players =                   # using players of Cooperator and Alternator strategy\n",
        "match1 =                             # play for 5 turns\n",
        "match1.play()"
      ],
      "execution_count": null,
      "outputs": []
    },
    {
      "cell_type": "code",
      "metadata": {
        "id": "InpWBSpII5Bx",
        "colab_type": "code",
        "colab": {}
      },
      "source": [
        "axl.all_strategies"
      ],
      "execution_count": null,
      "outputs": []
    },
    {
      "cell_type": "markdown",
      "metadata": {
        "id": "ZwEQbFjbI5B2",
        "colab_type": "text"
      },
      "source": [
        "### Exercise: Create a repeated game with 2 players having:\n",
        "#### I. TitForTat and Random Strategy \n",
        "#### II. Name it as match2\n",
        "#### III. Run it for 15 turns"
      ]
    },
    {
      "cell_type": "code",
      "metadata": {
        "id": "M8tlSW99I5B3",
        "colab_type": "code",
        "colab": {}
      },
      "source": [
        ""
      ],
      "execution_count": null,
      "outputs": []
    },
    {
      "cell_type": "markdown",
      "metadata": {
        "id": "8hZOv2xQI5B_",
        "colab_type": "text"
      },
      "source": [
        "## 7. Analyze Match"
      ]
    },
    {
      "cell_type": "code",
      "metadata": {
        "id": "eD9qeCgEI5B_",
        "colab_type": "code",
        "colab": {}
      },
      "source": [
        "# Payoffs\n",
        "\n",
        "match1        #Analyze the match\n",
        "\n",
        "#These payoffs are commonly referred to as:\n",
        "\n",
        "#R: the Reward payoff (default value in the library: 3) C-C\n",
        "#P: the Punishment payoff (default value in the library: 1) D-D\n",
        "#S: the Loss payoff (default value in the library: 0) C-D\n",
        "#T: the Temptation payoff (default value in the library: 5) D-C"
      ],
      "execution_count": null,
      "outputs": []
    },
    {
      "cell_type": "code",
      "metadata": {
        "id": "xs7rQEyZI5CC",
        "colab_type": "code",
        "colab": {}
      },
      "source": [
        "# Scores of a match\n",
        "\n",
        "match1.     #Retrieve match scores"
      ],
      "execution_count": null,
      "outputs": []
    },
    {
      "cell_type": "code",
      "metadata": {
        "id": "zCkP68lJI5CF",
        "colab_type": "code",
        "colab": {}
      },
      "source": [
        "# The result of the match can also be viewed as sparklines where cooperation is shown as a solid block and defection as a space. \n",
        "\n",
        "print  # Get output using sparklines"
      ],
      "execution_count": null,
      "outputs": []
    },
    {
      "cell_type": "markdown",
      "metadata": {
        "id": "rkbk8a-NI5CH",
        "colab_type": "text"
      },
      "source": [
        "### Exercise: Analyze match2. \n",
        "#### Find the score and create the sparklines"
      ]
    },
    {
      "cell_type": "code",
      "metadata": {
        "id": "snBJkfDJI5CI",
        "colab_type": "code",
        "colab": {}
      },
      "source": [
        ""
      ],
      "execution_count": null,
      "outputs": []
    },
    {
      "cell_type": "code",
      "metadata": {
        "id": "0665Gwk4I5CL",
        "colab_type": "code",
        "colab": {}
      },
      "source": [
        ""
      ],
      "execution_count": null,
      "outputs": []
    },
    {
      "cell_type": "markdown",
      "metadata": {
        "id": "B9h2o5YmI5CP",
        "colab_type": "text"
      },
      "source": [
        "#### References:\n",
        "\n",
        "Package Documentations\n",
        "\n",
        "https://nashpy.readthedocs.io/en/stable/index.html#\n",
        "\n",
        "https://axelrod.readthedocs.io/en/stable/#"
      ]
    }
  ]
}