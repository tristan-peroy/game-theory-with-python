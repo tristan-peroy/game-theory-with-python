{
  "nbformat": 4,
  "nbformat_minor": 0,
  "metadata": {
    "kernelspec": {
      "display_name": "Python 3",
      "language": "python",
      "name": "python3"
    },
    "language_info": {
      "codemirror_mode": {
        "name": "ipython",
        "version": 3
      },
      "file_extension": ".py",
      "mimetype": "text/x-python",
      "name": "python",
      "nbconvert_exporter": "python",
      "pygments_lexer": "ipython3",
      "version": "3.7.4"
    },
    "colab": {
      "name": "game_theory_with_python_notebook.ipynb",
      "provenance": [],
      "collapsed_sections": [],
      "include_colab_link": true
    }
  },
  "cells": [
    {
      "cell_type": "markdown",
      "metadata": {
        "id": "view-in-github",
        "colab_type": "text"
      },
      "source": [
        "<a href=\"https://colab.research.google.com/github/tristan-peroy/game-theory-with-python/blob/main/game_theory_with_python_notebook.ipynb\" target=\"_parent\"><img src=\"https://colab.research.google.com/assets/colab-badge.svg\" alt=\"Open In Colab\"/></a>"
      ]
    },
    {
      "cell_type": "markdown",
      "metadata": {
        "id": "m80rXVF8I5AN"
      },
      "source": [
        "# Game Theory With Python"
      ]
    },
    {
      "cell_type": "markdown",
      "metadata": {
        "id": "a_WtqfivI5AO"
      },
      "source": [
        "### Welcome to the course. \n",
        "### Glad to have you onboard in this journey to explore two Game Theory packages in Python\n",
        "\n",
        "#### Nashpy & Axelrod"
      ]
    },
    {
      "cell_type": "markdown",
      "metadata": {
        "id": "8gKmBcHBI5AP"
      },
      "source": [
        "#### 7 Tasks\n",
        "#### 1. Create games with Nashpy\n",
        "#### 2. Mixed strategies and Utilities\n",
        "#### 3. Nash Equilibrium\n",
        "#### 4. Games with multiple Nash Equilibria\n",
        "#### 5. Zero Sum Game\n",
        "#### 6. Create repeated game\n",
        "#### 7. Analyze Match"
      ]
    },
    {
      "cell_type": "markdown",
      "metadata": {
        "id": "iQPnHp9SI5AQ"
      },
      "source": [
        "## Two Player Games with Nashpy"
      ]
    },
    {
      "cell_type": "markdown",
      "metadata": {
        "id": "fKYKZgVyI5AR"
      },
      "source": [
        "## 1. Create 2 player games - Using Nashpy\n",
        "\n",
        "### Consider the following Prisoner's Dilemma matrix\n",
        "\n",
        "![picture](https://drive.google.com/uc?id=1fw7j7O8XLGQR3Rt_c9UK_PE6KgLsFeEw)\n"
      ]
    },
    {
      "cell_type": "code",
      "metadata": {
        "id": "vDUwerlDI5AS",
        "colab": {
          "base_uri": "https://localhost:8080/",
          "height": 1000
        },
        "outputId": "63c2ebbe-d500-4d8d-f963-e701cb4aa579"
      },
      "source": [
        "# Import packages\n",
        "!pip install nashpy\n",
        "!pip install axelrod\n",
        "\n",
        "import nashpy as nash\n",
        "import numpy as np"
      ],
      "execution_count": 1,
      "outputs": [
        {
          "output_type": "stream",
          "name": "stdout",
          "text": [
            "Collecting nashpy\n",
            "  Downloading nashpy-0.0.22.tar.gz (11 kB)\n",
            "\u001b[33mWARNING: Discarding https://files.pythonhosted.org/packages/93/1c/9005c6a0a3a3b183b5b216cc02cef14bb080fd3ee8733a1006fbcd81fffc/nashpy-0.0.22.tar.gz#sha256=9378fd492f01163ac01a7384dd94f7ffa3ce40e31fe2a08844a2e34576b3d8db (from https://pypi.org/simple/nashpy/). Command errored out with exit status 1: python setup.py egg_info Check the logs for full command output.\u001b[0m\n",
            "  Downloading nashpy-0.0.21.tar.gz (11 kB)\n",
            "Requirement already satisfied: numpy>=1.12.1 in /usr/local/lib/python3.7/dist-packages (from nashpy) (1.19.5)\n",
            "Requirement already satisfied: scipy>=0.19.0 in /usr/local/lib/python3.7/dist-packages (from nashpy) (1.4.1)\n",
            "Building wheels for collected packages: nashpy\n",
            "  Building wheel for nashpy (setup.py) ... \u001b[?25l\u001b[?25hdone\n",
            "  Created wheel for nashpy: filename=nashpy-0.0.21-py3-none-any.whl size=15281 sha256=dadfb3d660b6b47d8221b94e927d11dc7ecff215d93e4a9f000246259a6dd15e\n",
            "  Stored in directory: /root/.cache/pip/wheels/02/08/62/cf4fa931e0a317d180936b266169a57f4bb4eb801465bbe8a1\n",
            "Successfully built nashpy\n",
            "Installing collected packages: nashpy\n",
            "Successfully installed nashpy-0.0.21\n",
            "Collecting axelrod\n",
            "  Downloading Axelrod-4.11.0.tar.gz (205 kB)\n",
            "\u001b[K     |████████████████████████████████| 205 kB 6.7 MB/s \n",
            "\u001b[?25hRequirement already satisfied: cloudpickle>=0.2.2 in /usr/local/lib/python3.7/dist-packages (from axelrod) (1.3.0)\n",
            "Collecting fsspec>=0.6.0\n",
            "  Downloading fsspec-2021.8.1-py3-none-any.whl (119 kB)\n",
            "\u001b[K     |████████████████████████████████| 119 kB 48.2 MB/s \n",
            "\u001b[?25hRequirement already satisfied: toolz>=0.8.2 in /usr/local/lib/python3.7/dist-packages (from axelrod) (0.11.1)\n",
            "Requirement already satisfied: dask>=2.9.2 in /usr/local/lib/python3.7/dist-packages (from axelrod) (2.12.0)\n",
            "Requirement already satisfied: matplotlib>=3.0.3 in /usr/local/lib/python3.7/dist-packages (from axelrod) (3.2.2)\n",
            "Requirement already satisfied: numpy>=1.17.4 in /usr/local/lib/python3.7/dist-packages (from axelrod) (1.19.5)\n",
            "Requirement already satisfied: pandas>=1.0.0 in /usr/local/lib/python3.7/dist-packages (from axelrod) (1.1.5)\n",
            "Collecting prompt-toolkit>=3.0\n",
            "  Downloading prompt_toolkit-3.0.20-py3-none-any.whl (370 kB)\n",
            "\u001b[K     |████████████████████████████████| 370 kB 36.3 MB/s \n",
            "\u001b[?25hCollecting pyyaml>=5.1\n",
            "  Downloading PyYAML-5.4.1-cp37-cp37m-manylinux1_x86_64.whl (636 kB)\n",
            "\u001b[K     |████████████████████████████████| 636 kB 41.4 MB/s \n",
            "\u001b[?25hRequirement already satisfied: scipy>=1.3.3 in /usr/local/lib/python3.7/dist-packages (from axelrod) (1.4.1)\n",
            "Requirement already satisfied: tqdm>=4.39.0 in /usr/local/lib/python3.7/dist-packages (from axelrod) (4.62.0)\n",
            "Requirement already satisfied: cycler>=0.10 in /usr/local/lib/python3.7/dist-packages (from matplotlib>=3.0.3->axelrod) (0.10.0)\n",
            "Requirement already satisfied: pyparsing!=2.0.4,!=2.1.2,!=2.1.6,>=2.0.1 in /usr/local/lib/python3.7/dist-packages (from matplotlib>=3.0.3->axelrod) (2.4.7)\n",
            "Requirement already satisfied: python-dateutil>=2.1 in /usr/local/lib/python3.7/dist-packages (from matplotlib>=3.0.3->axelrod) (2.8.2)\n",
            "Requirement already satisfied: kiwisolver>=1.0.1 in /usr/local/lib/python3.7/dist-packages (from matplotlib>=3.0.3->axelrod) (1.3.1)\n",
            "Requirement already satisfied: six in /usr/local/lib/python3.7/dist-packages (from cycler>=0.10->matplotlib>=3.0.3->axelrod) (1.15.0)\n",
            "Requirement already satisfied: pytz>=2017.2 in /usr/local/lib/python3.7/dist-packages (from pandas>=1.0.0->axelrod) (2018.9)\n",
            "Requirement already satisfied: wcwidth in /usr/local/lib/python3.7/dist-packages (from prompt-toolkit>=3.0->axelrod) (0.2.5)\n",
            "Building wheels for collected packages: axelrod\n",
            "  Building wheel for axelrod (setup.py) ... \u001b[?25l\u001b[?25hdone\n",
            "  Created wheel for axelrod: filename=Axelrod-4.11.0-py2.py3-none-any.whl size=191320 sha256=836e88f74ee7476edabc65f71cdb41c6c4fdd700969aefd83138fbd9697084a0\n",
            "  Stored in directory: /root/.cache/pip/wheels/a4/10/82/a6ba5a92333eac725364ac55da628c4a385b767616d1138ee8\n",
            "Successfully built axelrod\n",
            "Installing collected packages: pyyaml, prompt-toolkit, fsspec, axelrod\n",
            "  Attempting uninstall: pyyaml\n",
            "    Found existing installation: PyYAML 3.13\n",
            "    Uninstalling PyYAML-3.13:\n",
            "      Successfully uninstalled PyYAML-3.13\n",
            "  Attempting uninstall: prompt-toolkit\n",
            "    Found existing installation: prompt-toolkit 1.0.18\n",
            "    Uninstalling prompt-toolkit-1.0.18:\n",
            "      Successfully uninstalled prompt-toolkit-1.0.18\n",
            "\u001b[31mERROR: pip's dependency resolver does not currently take into account all the packages that are installed. This behaviour is the source of the following dependency conflicts.\n",
            "jupyter-console 5.2.0 requires prompt-toolkit<2.0.0,>=1.0.0, but you have prompt-toolkit 3.0.20 which is incompatible.\n",
            "ipython 5.5.0 requires prompt-toolkit<2.0.0,>=1.0.4, but you have prompt-toolkit 3.0.20 which is incompatible.\u001b[0m\n",
            "Successfully installed axelrod-4.11.0 fsspec-2021.8.1 prompt-toolkit-3.0.20 pyyaml-5.4.1\n"
          ]
        },
        {
          "output_type": "display_data",
          "data": {
            "application/vnd.colab-display-data+json": {
              "pip_warning": {
                "packages": [
                  "prompt_toolkit"
                ]
              }
            }
          },
          "metadata": {}
        }
      ]
    },
    {
      "cell_type": "code",
      "metadata": {
        "id": "D-rB1BgYI5Aa",
        "colab": {
          "base_uri": "https://localhost:8080/"
        },
        "outputId": "455b0efe-b87d-4d61-8f2e-7fcbc0fc1091"
      },
      "source": [
        "# Create the payoff matrix\n",
        "\n",
        "P1 = np.array([[8,1],[15,3]]) # P1 is the row player\n",
        "P2 = np.array([[8,15],[1,3]]) # P2 is the column player\n",
        "pd = nash.Game(P1,P2)\n",
        "pd\n"
      ],
      "execution_count": 2,
      "outputs": [
        {
          "output_type": "execute_result",
          "data": {
            "text/plain": [
              "Bi matrix game with payoff matrices:\n",
              "\n",
              "Row player:\n",
              "[[ 8  1]\n",
              " [15  3]]\n",
              "\n",
              "Column player:\n",
              "[[ 8 15]\n",
              " [ 1  3]]"
            ]
          },
          "metadata": {},
          "execution_count": 2
        }
      ]
    },
    {
      "cell_type": "markdown",
      "metadata": {
        "id": "mapgZsumI5Ae"
      },
      "source": [
        "### Exercise: Create a two player game, where,\n",
        "\n",
        "#### I. Name players as A and B\n",
        "#### II. Name the game as 'gm' and \n",
        "#### III. Use the follwing matrix\n",
        "\n",
        "![picture](https://drive.google.com/uc?id=1eHhyXZVZWQ3oPto4qcbL1EefxUsWq4bp)\n"
      ]
    },
    {
      "cell_type": "code",
      "metadata": {
        "id": "LBZatKa-I5Af",
        "colab": {
          "base_uri": "https://localhost:8080/"
        },
        "outputId": "e1925143-24c5-4ec0-a70f-26855e1f1253"
      },
      "source": [
        "A=np.array([[5,17],[14,12]])\n",
        "B=np.array([[15,16],[2,8]])\n",
        "gm=nash.Game(A,B)\n",
        "gm"
      ],
      "execution_count": 6,
      "outputs": [
        {
          "output_type": "execute_result",
          "data": {
            "text/plain": [
              "Bi matrix game with payoff matrices:\n",
              "\n",
              "Row player:\n",
              "[[ 5 17]\n",
              " [14 12]]\n",
              "\n",
              "Column player:\n",
              "[[15 16]\n",
              " [ 2  8]]"
            ]
          },
          "metadata": {},
          "execution_count": 6
        }
      ]
    },
    {
      "cell_type": "markdown",
      "metadata": {
        "id": "CvPz8NuJI5Aj"
      },
      "source": [
        "## 2. Mixed Strategy and Utilities"
      ]
    },
    {
      "cell_type": "markdown",
      "metadata": {
        "id": "6-_cqcSQI5Ak"
      },
      "source": [
        "### Pure Strategy: \n",
        "\n",
        "A complete definition of how a player will play a game, it yields optimum payoff to the player. \n",
        "\n",
        "### Mixed Strategy: \n",
        "\n",
        "Assigns a probability to each pure strategy. This allows for a player to randomly select a pure strategy. "
      ]
    },
    {
      "cell_type": "markdown",
      "metadata": {
        "id": "sV3SS2IKI5Am"
      },
      "source": [
        "### Calculating Utilities:\n",
        "\n",
        "![picture](https://drive.google.com/uc?id=1eIMuJo8w5EgJC5mLaxT9kzH8-rdQwm3_)\n",
        "\n",
        "#### Consider the following Mixed Strategy\n",
        "\n",
        "σr=(.2,.8) and σc=(.6,.4)\n"
      ]
    },
    {
      "cell_type": "code",
      "metadata": {
        "id": "XPaaw8GXI5An",
        "colab": {
          "base_uri": "https://localhost:8080/"
        },
        "outputId": "56395768-7067-4ff7-d6ca-fdd8d3c67132"
      },
      "source": [
        "# Calculate Utilities\n",
        "\n",
        "sigma_r = np.array([0.2,0.8])\n",
        "sigma_c = np.array([0.6,0.4])\n",
        "pd = nash.Game(P1, P2)\n",
        "pd[sigma_r, sigma_c]"
      ],
      "execution_count": 8,
      "outputs": [
        {
          "output_type": "execute_result",
          "data": {
            "text/plain": [
              "array([9.2, 3.6])"
            ]
          },
          "metadata": {},
          "execution_count": 8
        }
      ]
    },
    {
      "cell_type": "markdown",
      "metadata": {
        "id": "-nGQbdBQI5A0"
      },
      "source": [
        "### Validate the computation"
      ]
    },
    {
      "cell_type": "code",
      "metadata": {
        "id": "pmuAEpSII5Ar",
        "colab": {
          "base_uri": "https://localhost:8080/"
        },
        "outputId": "2f3c11fb-19b5-4173-d9db-185e0f0c174b"
      },
      "source": [
        "#ur(σr,σc)\n",
        "ur=0.2*0.6*8+0.2*0.4*1+0.8*0.6*15+0.8*0.4*3\n",
        "ur"
      ],
      "execution_count": 9,
      "outputs": [
        {
          "output_type": "execute_result",
          "data": {
            "text/plain": [
              "9.2"
            ]
          },
          "metadata": {},
          "execution_count": 9
        }
      ]
    },
    {
      "cell_type": "code",
      "metadata": {
        "id": "W6KZrnGxI5Au",
        "colab": {
          "base_uri": "https://localhost:8080/"
        },
        "outputId": "6ab9479e-f37c-45ed-934b-6751f0447030"
      },
      "source": [
        "#uc(σr,σc)\n",
        "uc=0.2*0.6*8+0.2*0.4*15+0.8*0.6*1+0.8*0.4*3\n",
        "uc"
      ],
      "execution_count": 10,
      "outputs": [
        {
          "output_type": "execute_result",
          "data": {
            "text/plain": [
              "3.6000000000000005"
            ]
          },
          "metadata": {},
          "execution_count": 10
        }
      ]
    },
    {
      "cell_type": "markdown",
      "metadata": {
        "id": "Y28VJqzfI5A2"
      },
      "source": [
        "### Exercise: Calculate the utilities of the game 'gm' created in the previous exercise, using \n",
        "#### σr=(.3,.7) and σc=(.5,.5)"
      ]
    },
    {
      "cell_type": "code",
      "metadata": {
        "id": "qf6LY92kI5A3",
        "colab": {
          "base_uri": "https://localhost:8080/"
        },
        "outputId": "fe8236dd-ed4b-46c4-96a2-bed04c424d8f"
      },
      "source": [
        "sigma_r=np.array([0.3,0.7])\n",
        "sigma_c=np.array([0.5,0.5])\n",
        "gm=nash.Game(A,B)\n",
        "gm[sigma_r,sigma_c]"
      ],
      "execution_count": 11,
      "outputs": [
        {
          "output_type": "execute_result",
          "data": {
            "text/plain": [
              "array([12.4 ,  8.15])"
            ]
          },
          "metadata": {},
          "execution_count": 11
        }
      ]
    },
    {
      "cell_type": "markdown",
      "metadata": {
        "id": "sF4K0KlOI5A7"
      },
      "source": [
        "## 3. The Nash Equilibrium\n",
        "\n",
        "Strict and unique Nash Equilibrium\n",
        "\n",
        "![picture](https://drive.google.com/uc?id=1_B9Wk5Sb1jwK1AADXR1xj9n0tmALNykM)"
      ]
    },
    {
      "cell_type": "code",
      "metadata": {
        "id": "H9mFNqgOI5A8",
        "colab": {
          "base_uri": "https://localhost:8080/"
        },
        "outputId": "a1d783fd-8223-4ae8-d23a-8ce1d47fb093"
      },
      "source": [
        "# Find the Nash Equilibrium with Support Enumeration\n",
        "\n",
        "equilibria = pd.support_enumeration()\n",
        "for eq in equilibria:\n",
        "  print(eq)"
      ],
      "execution_count": 12,
      "outputs": [
        {
          "output_type": "stream",
          "name": "stdout",
          "text": [
            "(array([0., 1.]), array([0., 1.]))\n"
          ]
        }
      ]
    },
    {
      "cell_type": "markdown",
      "metadata": {
        "id": "faBuCYODI5A_"
      },
      "source": [
        "#### Both solutions match"
      ]
    },
    {
      "cell_type": "markdown",
      "metadata": {
        "id": "7nFjsLoUI5BA"
      },
      "source": [
        "### Exercise: Find out the Nash Equilibrium for gm"
      ]
    },
    {
      "cell_type": "code",
      "metadata": {
        "id": "-WDnIp6SI5BB",
        "colab": {
          "base_uri": "https://localhost:8080/"
        },
        "outputId": "e2c5e1a4-bfe0-400c-dfb9-37be144894a2"
      },
      "source": [
        "equilibria=gm.support_enumeration()\n",
        "for eq in equilibria:\n",
        "  print(eq)"
      ],
      "execution_count": 13,
      "outputs": [
        {
          "output_type": "stream",
          "name": "stdout",
          "text": [
            "(array([1., 0.]), array([0., 1.]))\n"
          ]
        }
      ]
    },
    {
      "cell_type": "markdown",
      "metadata": {
        "id": "NY2yrKJNI5BG"
      },
      "source": [
        "## 4. Games with Multiple Nash Equilibria\n",
        "\n",
        "### Hawk - Dove Game\n",
        "\n",
        "![picture](https://drive.google.com/uc?id=1b8kKho3qu1s5b7Qriq6NYWqJxd5uKI6x)"
      ]
    },
    {
      "cell_type": "code",
      "metadata": {
        "id": "aQg_1AIMI5BG",
        "colab": {
          "base_uri": "https://localhost:8080/"
        },
        "outputId": "cba6912f-187a-4580-c6d4-bfbe2e667569"
      },
      "source": [
        "P3 =  np.array([[3,1],[4,0]]) # P3 is the row player\n",
        "P4 =  np.array([[3,4],[1,0]]) # P4 is the column player\n",
        "hd = nash.Game(P3,P4)\n",
        "hd"
      ],
      "execution_count": 14,
      "outputs": [
        {
          "output_type": "execute_result",
          "data": {
            "text/plain": [
              "Bi matrix game with payoff matrices:\n",
              "\n",
              "Row player:\n",
              "[[3 1]\n",
              " [4 0]]\n",
              "\n",
              "Column player:\n",
              "[[3 4]\n",
              " [1 0]]"
            ]
          },
          "metadata": {},
          "execution_count": 14
        }
      ]
    },
    {
      "cell_type": "markdown",
      "metadata": {
        "id": "HdUrrBQ9I5BK"
      },
      "source": [
        "#### Nash Equilibria\n",
        "\n",
        "![picture](https://drive.google.com/uc?id=1JJxdwZ3y6U_hxMH-0l4i6LpuuTVhF5w0)\n"
      ]
    },
    {
      "cell_type": "code",
      "metadata": {
        "id": "BiVKP_72I5BL",
        "colab": {
          "base_uri": "https://localhost:8080/"
        },
        "outputId": "138c19df-1773-4eb3-f91e-f11b440cf08a"
      },
      "source": [
        "equilibria = hd.support_enumeration()\n",
        "for eq in equilibria:\n",
        "  print(eq)"
      ],
      "execution_count": 15,
      "outputs": [
        {
          "output_type": "stream",
          "name": "stdout",
          "text": [
            "(array([1., 0.]), array([0., 1.]))\n",
            "(array([0., 1.]), array([1., 0.]))\n",
            "(array([0.5, 0.5]), array([0.5, 0.5]))\n"
          ]
        }
      ]
    },
    {
      "cell_type": "markdown",
      "metadata": {
        "id": "Xolws3tSI5BO"
      },
      "source": [
        "Sol. (D,H)\n",
        "\n",
        "P3 : D = 1, H = 0\n",
        "\n",
        "P4 : D = 0, H = 1\n",
        "\n",
        "Sol. (H,D)\n",
        "\n",
        "P3 : D = 0, H = 1\n",
        "\n",
        "P4 : D = 1, H = 0\n",
        "\n",
        "Sol. (D,D) or (H,H)\n",
        "\n",
        "P3 : D = 0.5, H = 0.5\n",
        "\n",
        "P4 : D = 0.5, H = 0.5\n"
      ]
    },
    {
      "cell_type": "markdown",
      "metadata": {
        "id": "iVaY16XNI5BO"
      },
      "source": [
        "### Exercise: Find out the number of NE for the following matrix\n",
        "#### Players: M and N\n",
        "#### Name of game mn\n",
        "\n",
        "\n",
        "![picture](https://drive.google.com/uc?id=1mAeVXw3qHTyzEx4kgMsOlyrP6rJvpKlN)"
      ]
    },
    {
      "cell_type": "code",
      "metadata": {
        "id": "4NW4qyI4I5BP",
        "colab": {
          "base_uri": "https://localhost:8080/"
        },
        "outputId": "48a97fbd-155e-4250-883b-4295b416fa1e"
      },
      "source": [
        "M = np.array([[1,1,3,2],[2,3,4,3],[5,1,1,4]])\n",
        "N = np.array([[3,2,2,4],[1,4,2,0],[3,3,2,3]])\n",
        "mn=nash.Game(M,N)\n",
        "mn"
      ],
      "execution_count": 17,
      "outputs": [
        {
          "output_type": "execute_result",
          "data": {
            "text/plain": [
              "Bi matrix game with payoff matrices:\n",
              "\n",
              "Row player:\n",
              "[[1 1 3 2]\n",
              " [2 3 4 3]\n",
              " [5 1 1 4]]\n",
              "\n",
              "Column player:\n",
              "[[3 2 2 4]\n",
              " [1 4 2 0]\n",
              " [3 3 2 3]]"
            ]
          },
          "metadata": {},
          "execution_count": 17
        }
      ]
    },
    {
      "cell_type": "code",
      "metadata": {
        "id": "dbR3SnMPI5BS",
        "colab": {
          "base_uri": "https://localhost:8080/"
        },
        "outputId": "ebb9a83a-dca3-4ccc-c47f-6c00a409f02f"
      },
      "source": [
        "equilibria=mn.support_enumeration()\n",
        "for eq in equilibria:\n",
        "  print(eq)"
      ],
      "execution_count": 18,
      "outputs": [
        {
          "output_type": "stream",
          "name": "stdout",
          "text": [
            "(array([0., 1., 0.]), array([0., 1., 0., 0.]))\n",
            "(array([0., 0., 1.]), array([1., 0., 0., 0.]))\n",
            "(array([0., 0., 1.]), array([0., 0., 0., 1.]))\n"
          ]
        }
      ]
    },
    {
      "cell_type": "markdown",
      "metadata": {
        "id": "I2_Z8uVlI5BW"
      },
      "source": [
        "![picture](https://drive.google.com/uc?id=11UeEgrEh4VYWYAMwyvwLVGZlHT7On2Eo)"
      ]
    },
    {
      "cell_type": "markdown",
      "metadata": {
        "id": "5NhqPum6I5BX"
      },
      "source": [
        "## 5. Zero Sum Game\n",
        "\n",
        "Matching the pennies game\n",
        "\n",
        "![picture](https://drive.google.com/uc?id=1DJhLFiRbUah8Cvku03oGP5C2eFuDPxBQ)"
      ]
    },
    {
      "cell_type": "code",
      "metadata": {
        "id": "3w_YHAZTI5BX",
        "colab": {
          "base_uri": "https://localhost:8080/"
        },
        "outputId": "1d979f3f-140a-4bd1-94fc-add6869198f1"
      },
      "source": [
        "P5 = np.array([[1,-1],[-1,1]])\n",
        "mp = nash.Game(P5)\n",
        "mp"
      ],
      "execution_count": 19,
      "outputs": [
        {
          "output_type": "execute_result",
          "data": {
            "text/plain": [
              "Zero sum game with payoff matrices:\n",
              "\n",
              "Row player:\n",
              "[[ 1 -1]\n",
              " [-1  1]]\n",
              "\n",
              "Column player:\n",
              "[[-1  1]\n",
              " [ 1 -1]]"
            ]
          },
          "metadata": {},
          "execution_count": 19
        }
      ]
    },
    {
      "cell_type": "code",
      "metadata": {
        "id": "U9bM_W8eI5Bg",
        "colab": {
          "base_uri": "https://localhost:8080/"
        },
        "outputId": "7b590a16-0f76-4c55-85fa-c6f263bf7b2d"
      },
      "source": [
        "equilibria = mp.support_enumeration()\n",
        "for eq in equilibria:\n",
        "  print(eq)"
      ],
      "execution_count": 22,
      "outputs": [
        {
          "output_type": "stream",
          "name": "stdout",
          "text": [
            "(array([0.5, 0.5]), array([0.5, 0.5]))\n"
          ]
        }
      ]
    },
    {
      "cell_type": "markdown",
      "metadata": {
        "id": "AwgfpFL-I5Bk"
      },
      "source": [
        "### Exercise: Find out the solution for the following zero sum game 'zs'\n",
        "#### Use payoff matrix - np.array([[5, -6.5], [-2.5, 7]]) \n",
        "#### For players Z1 and Z2"
      ]
    },
    {
      "cell_type": "code",
      "metadata": {
        "id": "B9ypJKPZI5Bl",
        "colab": {
          "base_uri": "https://localhost:8080/"
        },
        "outputId": "ee88283d-ea15-4bc5-cf4c-d4a8d1fa5902"
      },
      "source": [
        "Z1=np.array([[5, -6.5], [-2.5, 7]])\n",
        "zs=nash.Game(Z1)\n",
        "zs"
      ],
      "execution_count": 23,
      "outputs": [
        {
          "output_type": "execute_result",
          "data": {
            "text/plain": [
              "Zero sum game with payoff matrices:\n",
              "\n",
              "Row player:\n",
              "[[ 5.  -6.5]\n",
              " [-2.5  7. ]]\n",
              "\n",
              "Column player:\n",
              "[[-5.   6.5]\n",
              " [ 2.5 -7. ]]"
            ]
          },
          "metadata": {},
          "execution_count": 23
        }
      ]
    },
    {
      "cell_type": "code",
      "metadata": {
        "id": "9qPZdieaI5Bo",
        "colab": {
          "base_uri": "https://localhost:8080/"
        },
        "outputId": "e2e071b2-2018-4169-a297-802d52743d0a"
      },
      "source": [
        "equilibria = zs.support_enumeration()\n",
        "for eq in equilibria:\n",
        "  print(eq)"
      ],
      "execution_count": 24,
      "outputs": [
        {
          "output_type": "stream",
          "name": "stdout",
          "text": [
            "(array([0.45238095, 0.54761905]), array([0.64285714, 0.35714286]))\n"
          ]
        }
      ]
    },
    {
      "cell_type": "markdown",
      "metadata": {
        "id": "eVM0LDlfI5Br"
      },
      "source": [
        "## Two Player-Repeated Games with Axelrod"
      ]
    },
    {
      "cell_type": "markdown",
      "metadata": {
        "id": "gJtMM67EI5Bs"
      },
      "source": [
        "## 6. Create repeated game"
      ]
    },
    {
      "cell_type": "code",
      "metadata": {
        "id": "-qiWUNZ2I5Bs"
      },
      "source": [
        "#!pip install -U pyYAML     # Troubleshoot: Execute this line if Axelrod does not run and AttributeError: module 'yaml' has no attribute 'FullLoader' occurs\n",
        "\n",
        "# Import package\n",
        "\n",
        "import axelrod as axl"
      ],
      "execution_count": 25,
      "outputs": []
    },
    {
      "cell_type": "code",
      "metadata": {
        "id": "xAlZskFMI5Bv",
        "colab": {
          "base_uri": "https://localhost:8080/"
        },
        "outputId": "15e44169-c6d6-4f99-ed6f-b47bd5c68a99"
      },
      "source": [
        "# Create matches\n",
        "\n",
        "players = (axl.Cooperator(),axl.Alternator())                  # using players of Cooperator and Alternator strategy\n",
        "match1 =  axl.Match(players, turns=5)                           # play for 5 turns\n",
        "match1.play()"
      ],
      "execution_count": 26,
      "outputs": [
        {
          "output_type": "execute_result",
          "data": {
            "text/plain": [
              "[(C, C), (C, D), (C, C), (C, D), (C, C)]"
            ]
          },
          "metadata": {},
          "execution_count": 26
        }
      ]
    },
    {
      "cell_type": "code",
      "metadata": {
        "id": "InpWBSpII5Bx",
        "colab": {
          "base_uri": "https://localhost:8080/"
        },
        "outputId": "dea2089f-1f4a-4ff1-c395-22b556974028"
      },
      "source": [
        "axl.all_strategies"
      ],
      "execution_count": 27,
      "outputs": [
        {
          "output_type": "execute_result",
          "data": {
            "text/plain": [
              "[axelrod.strategies.memoryone.ALLCorALLD,\n",
              " axelrod.strategies.memorytwo.AON2,\n",
              " axelrod.strategies.apavlov.APavlov2006,\n",
              " axelrod.strategies.apavlov.APavlov2011,\n",
              " axelrod.strategies.adaptive.Adaptive,\n",
              " axelrod.strategies.titfortat.AdaptiveTitForTat,\n",
              " axelrod.strategies.adaptor.AdaptorBrief,\n",
              " axelrod.strategies.adaptor.AdaptorLong,\n",
              " axelrod.strategies.grudger.Aggravater,\n",
              " axelrod.strategies.titfortat.Alexei,\n",
              " axelrod.strategies.alternator.Alternator,\n",
              " axelrod.strategies.hunter.AlternatorHunter,\n",
              " axelrod.strategies.cycler.AntiCycler,\n",
              " axelrod.strategies.titfortat.AntiTitForTat,\n",
              " axelrod.strategies.appeaser.Appeaser,\n",
              " axelrod.strategies.qlearner.ArrogantQLearner,\n",
              " axelrod.strategies.averagecopier.AverageCopier,\n",
              " axelrod.strategies.backstabber.BackStabber,\n",
              " axelrod.strategies.better_and_better.BetterAndBetter,\n",
              " axelrod.strategies.titfortat.Bully,\n",
              " axelrod.strategies.bush_mosteller.BushMosteller,\n",
              " axelrod.strategies.calculator.Calculator,\n",
              " axelrod.strategies.qlearner.CautiousQLearner,\n",
              " axelrod.strategies.prober.CollectiveStrategy,\n",
              " axelrod.strategies.titfortat.ContriteTitForTat,\n",
              " axelrod.strategies.cooperator.Cooperator,\n",
              " axelrod.strategies.hunter.CooperatorHunter,\n",
              " axelrod.strategies.hunter.CycleHunter,\n",
              " axelrod.strategies.cycler.CyclerCCCCCD,\n",
              " axelrod.strategies.cycler.CyclerCCCD,\n",
              " axelrod.strategies.cycler.CyclerCCCDCD,\n",
              " axelrod.strategies.cycler.CyclerCCD,\n",
              " axelrod.strategies.cycler.CyclerDC,\n",
              " axelrod.strategies.cycler.CyclerDDC,\n",
              " axelrod.strategies.dbs.DBS,\n",
              " axelrod.strategies.darwin.Darwin,\n",
              " axelrod.strategies.defector.Defector,\n",
              " axelrod.strategies.hunter.DefectorHunter,\n",
              " axelrod.strategies.memorytwo.DelayedAON1,\n",
              " axelrod.strategies.mutual.Desperate,\n",
              " axelrod.strategies.prober.Detective,\n",
              " axelrod.strategies.backstabber.DoubleCrosser,\n",
              " axelrod.strategies.resurrection.DoubleResurrection,\n",
              " axelrod.strategies.doubler.Doubler,\n",
              " axelrod.strategies.titfortat.DynamicTwoTitsForTat,\n",
              " axelrod.strategies.grudger.EasyGo,\n",
              " axelrod.strategies.titfortat.EugineNier,\n",
              " axelrod.strategies.hunter.EventualCycleHunter,\n",
              " axelrod.strategies.ann.EvolvedANN,\n",
              " axelrod.strategies.ann.EvolvedANN5,\n",
              " axelrod.strategies.ann.EvolvedANNNoise05,\n",
              " axelrod.strategies.finite_state_machines.EvolvedFSM16,\n",
              " axelrod.strategies.finite_state_machines.EvolvedFSM16Noise05,\n",
              " axelrod.strategies.finite_state_machines.EvolvedFSM4,\n",
              " axelrod.strategies.finite_state_machines.EvolvedFSM6,\n",
              " axelrod.strategies.hmm.EvolvedHMM5,\n",
              " axelrod.strategies.lookerup.EvolvedLookerUp1_1_1,\n",
              " axelrod.strategies.lookerup.EvolvedLookerUp2_2_2,\n",
              " axelrod.strategies.memoryone.FirmButFair,\n",
              " axelrod.strategies.axelrod_first.FirstByAnonymous,\n",
              " axelrod.strategies.axelrod_first.FirstByDavis,\n",
              " axelrod.strategies.axelrod_first.FirstByDowning,\n",
              " axelrod.strategies.axelrod_first.FirstByFeld,\n",
              " axelrod.strategies.axelrod_first.FirstByGraaskamp,\n",
              " axelrod.strategies.axelrod_first.FirstByGrofman,\n",
              " axelrod.strategies.axelrod_first.FirstByJoss,\n",
              " axelrod.strategies.axelrod_first.FirstByNydegger,\n",
              " axelrod.strategies.axelrod_first.FirstByShubik,\n",
              " axelrod.strategies.axelrod_first.FirstBySteinAndRapoport,\n",
              " axelrod.strategies.axelrod_first.FirstByTidemanAndChieruzzi,\n",
              " axelrod.strategies.axelrod_first.FirstByTullock,\n",
              " axelrod.strategies.oncebitten.FoolMeOnce,\n",
              " axelrod.strategies.oncebitten.ForgetfulFoolMeOnce,\n",
              " axelrod.strategies.grudger.ForgetfulGrudger,\n",
              " axelrod.strategies.forgiver.Forgiver,\n",
              " axelrod.strategies.forgiver.ForgivingTitForTat,\n",
              " axelrod.strategies.finite_state_machines.Fortress3,\n",
              " axelrod.strategies.finite_state_machines.Fortress4,\n",
              " axelrod.strategies.memoryone.GTFT,\n",
              " axelrod.strategies.grudger.GeneralSoftGrudger,\n",
              " axelrod.strategies.gobymajority.GoByMajority,\n",
              " axelrod.strategies.gobymajority.GoByMajority10,\n",
              " axelrod.strategies.gobymajority.GoByMajority20,\n",
              " axelrod.strategies.gobymajority.GoByMajority40,\n",
              " axelrod.strategies.gobymajority.GoByMajority5,\n",
              " axelrod.strategies.mathematicalconstants.Golden,\n",
              " axelrod.strategies.titfortat.Gradual,\n",
              " axelrod.strategies.gradualkiller.GradualKiller,\n",
              " axelrod.strategies.grudger.Grudger,\n",
              " axelrod.strategies.grudger.GrudgerAlternator,\n",
              " axelrod.strategies.grumpy.Grumpy,\n",
              " axelrod.strategies.handshake.Handshake,\n",
              " axelrod.strategies.gobymajority.HardGoByMajority,\n",
              " axelrod.strategies.gobymajority.HardGoByMajority10,\n",
              " axelrod.strategies.gobymajority.HardGoByMajority20,\n",
              " axelrod.strategies.gobymajority.HardGoByMajority40,\n",
              " axelrod.strategies.gobymajority.HardGoByMajority5,\n",
              " axelrod.strategies.prober.HardProber,\n",
              " axelrod.strategies.titfortat.HardTitFor2Tats,\n",
              " axelrod.strategies.titfortat.HardTitForTat,\n",
              " axelrod.strategies.qlearner.HesitantQLearner,\n",
              " axelrod.strategies.mutual.Hopeless,\n",
              " axelrod.strategies.inverse.Inverse,\n",
              " axelrod.strategies.punisher.InversePunisher,\n",
              " axelrod.strategies.worse_and_worse.KnowledgeableWorseAndWorse,\n",
              " axelrod.strategies.punisher.LevelPunisher,\n",
              " axelrod.strategies.retaliate.LimitedRetaliate,\n",
              " axelrod.strategies.retaliate.LimitedRetaliate2,\n",
              " axelrod.strategies.retaliate.LimitedRetaliate3,\n",
              " axelrod.strategies.memorytwo.MEM2,\n",
              " axelrod.strategies.hunter.MathConstantHunter,\n",
              " axelrod.strategies.titfortat.Michaelos,\n",
              " axelrod.strategies.titfortat.NTitsForMTats,\n",
              " axelrod.strategies.prober.NaiveProber,\n",
              " axelrod.strategies.negation.Negation,\n",
              " axelrod.strategies.averagecopier.NiceAverageCopier,\n",
              " axelrod.strategies.titfortat.OmegaTFT,\n",
              " axelrod.strategies.oncebitten.OnceBitten,\n",
              " axelrod.strategies.grudger.OppositeGrudger,\n",
              " axelrod.strategies.titfortat.OriginalGradual,\n",
              " axelrod.strategies.gambler.PSOGambler1_1_1,\n",
              " axelrod.strategies.gambler.PSOGambler2_2_2,\n",
              " axelrod.strategies.gambler.PSOGambler2_2_2_Noise05,\n",
              " axelrod.strategies.gambler.PSOGamblerMem1,\n",
              " axelrod.strategies.mathematicalconstants.Pi,\n",
              " axelrod.strategies.finite_state_machines.Predator,\n",
              " axelrod.strategies.prober.Prober,\n",
              " axelrod.strategies.prober.Prober2,\n",
              " axelrod.strategies.prober.Prober3,\n",
              " axelrod.strategies.prober.Prober4,\n",
              " axelrod.strategies.finite_state_machines.Pun1,\n",
              " axelrod.strategies.punisher.Punisher,\n",
              " axelrod.strategies.finite_state_machines.Raider,\n",
              " axelrod.strategies.rand.Random,\n",
              " axelrod.strategies.hunter.RandomHunter,\n",
              " axelrod.strategies.titfortat.RandomTitForTat,\n",
              " axelrod.strategies.prober.RemorsefulProber,\n",
              " axelrod.strategies.resurrection.Resurrection,\n",
              " axelrod.strategies.retaliate.Retaliate,\n",
              " axelrod.strategies.retaliate.Retaliate2,\n",
              " axelrod.strategies.retaliate.Retaliate3,\n",
              " axelrod.strategies.revised_downing.RevisedDowning,\n",
              " axelrod.strategies.finite_state_machines.Ripoff,\n",
              " axelrod.strategies.qlearner.RiskyQLearner,\n",
              " axelrod.strategies.axelrod_second.SecondByAppold,\n",
              " axelrod.strategies.axelrod_second.SecondByBlack,\n",
              " axelrod.strategies.axelrod_second.SecondByBorufsen,\n",
              " axelrod.strategies.axelrod_second.SecondByCave,\n",
              " axelrod.strategies.axelrod_second.SecondByChampion,\n",
              " axelrod.strategies.axelrod_second.SecondByColbert,\n",
              " axelrod.strategies.axelrod_second.SecondByEatherley,\n",
              " axelrod.strategies.axelrod_second.SecondByGetzler,\n",
              " axelrod.strategies.axelrod_second.SecondByGladstein,\n",
              " axelrod.strategies.axelrod_second.SecondByGraaskampKatzen,\n",
              " axelrod.strategies.axelrod_second.SecondByGrofman,\n",
              " axelrod.strategies.axelrod_second.SecondByHarrington,\n",
              " axelrod.strategies.axelrod_second.SecondByKluepfel,\n",
              " axelrod.strategies.axelrod_second.SecondByLeyvraz,\n",
              " axelrod.strategies.axelrod_second.SecondByMikkelson,\n",
              " axelrod.strategies.axelrod_second.SecondByRichardHufford,\n",
              " axelrod.strategies.axelrod_second.SecondByRowsam,\n",
              " axelrod.strategies.axelrod_second.SecondByTester,\n",
              " axelrod.strategies.axelrod_second.SecondByTidemanAndChieruzzi,\n",
              " axelrod.strategies.axelrod_second.SecondByTranquilizer,\n",
              " axelrod.strategies.axelrod_second.SecondByWeiner,\n",
              " axelrod.strategies.axelrod_second.SecondByWhite,\n",
              " axelrod.strategies.axelrod_second.SecondByWmAdams,\n",
              " axelrod.strategies.axelrod_second.SecondByYamachi,\n",
              " axelrod.strategies.selfsteem.SelfSteem,\n",
              " axelrod.strategies.shortmem.ShortMem,\n",
              " axelrod.strategies.titfortat.SlowTitForTwoTats2,\n",
              " axelrod.strategies.titfortat.SneakyTitForTat,\n",
              " axelrod.strategies.grudger.SoftGrudger,\n",
              " axelrod.strategies.memoryone.SoftJoss,\n",
              " axelrod.strategies.finite_state_machines.SolutionB1,\n",
              " axelrod.strategies.finite_state_machines.SolutionB5,\n",
              " axelrod.strategies.titfortat.SpitefulTitForTat,\n",
              " axelrod.strategies.grudger.SpitefulCC,\n",
              " axelrod.strategies.stalker.Stalker,\n",
              " axelrod.strategies.memoryone.StochasticCooperator,\n",
              " axelrod.strategies.memoryone.StochasticWSLS,\n",
              " axelrod.strategies.titfortat.SuspiciousTitForTat,\n",
              " axelrod.strategies.finite_state_machines.TF1,\n",
              " axelrod.strategies.finite_state_machines.TF2,\n",
              " axelrod.strategies.finite_state_machines.TF3,\n",
              " axelrod.strategies.sequence_player.ThueMorse,\n",
              " axelrod.strategies.sequence_player.ThueMorseInverse,\n",
              " axelrod.strategies.finite_state_machines.Thumper,\n",
              " axelrod.strategies.titfortat.TitFor2Tats,\n",
              " axelrod.strategies.titfortat.TitForTat,\n",
              " axelrod.strategies.cooperator.TrickyCooperator,\n",
              " axelrod.strategies.defector.TrickyDefector,\n",
              " axelrod.strategies.punisher.TrickyLevelPunisher,\n",
              " axelrod.strategies.titfortat.TwoTitsForTat,\n",
              " axelrod.strategies.finite_state_machines.UsuallyCooperates,\n",
              " axelrod.strategies.finite_state_machines.UsuallyDefects,\n",
              " axelrod.strategies.verybad.VeryBad,\n",
              " axelrod.strategies.mutual.Willing,\n",
              " axelrod.strategies.memoryone.WinShiftLoseStay,\n",
              " axelrod.strategies.memoryone.WinStayLoseShift,\n",
              " axelrod.strategies.lookerup.Winner12,\n",
              " axelrod.strategies.lookerup.Winner21,\n",
              " axelrod.strategies.worse_and_worse.WorseAndWorse,\n",
              " axelrod.strategies.worse_and_worse.WorseAndWorse2,\n",
              " axelrod.strategies.worse_and_worse.WorseAndWorse3,\n",
              " axelrod.strategies.zero_determinant.ZDExtort2,\n",
              " axelrod.strategies.zero_determinant.ZDExtort2v2,\n",
              " axelrod.strategies.zero_determinant.ZDExtort3,\n",
              " axelrod.strategies.zero_determinant.ZDExtort4,\n",
              " axelrod.strategies.zero_determinant.ZDExtortion,\n",
              " axelrod.strategies.zero_determinant.ZDGTFT2,\n",
              " axelrod.strategies.zero_determinant.ZDGen2,\n",
              " axelrod.strategies.gambler.ZDMem2,\n",
              " axelrod.strategies.zero_determinant.ZDMischief,\n",
              " axelrod.strategies.zero_determinant.ZDSet2,\n",
              " axelrod.strategies.mathematicalconstants.e,\n",
              " axelrod.strategies.meta.MemoryDecay,\n",
              " axelrod.strategies.meta.MetaHunter,\n",
              " axelrod.strategies.meta.MetaHunterAggressive,\n",
              " axelrod.strategies.meta.MetaMajority,\n",
              " axelrod.strategies.meta.MetaMajorityMemoryOne,\n",
              " axelrod.strategies.meta.MetaMajorityFiniteMemory,\n",
              " axelrod.strategies.meta.MetaMajorityLongMemory,\n",
              " axelrod.strategies.meta.MetaMinority,\n",
              " axelrod.strategies.meta.MetaMixer,\n",
              " axelrod.strategies.meta.MetaWinner,\n",
              " axelrod.strategies.meta.MetaWinnerDeterministic,\n",
              " axelrod.strategies.meta.MetaWinnerEnsemble,\n",
              " axelrod.strategies.meta.MetaWinnerMemoryOne,\n",
              " axelrod.strategies.meta.MetaWinnerFiniteMemory,\n",
              " axelrod.strategies.meta.MetaWinnerLongMemory,\n",
              " axelrod.strategies.meta.MetaWinnerStochastic,\n",
              " axelrod.strategies.meta.NMWEDeterministic,\n",
              " axelrod.strategies.meta.NMWEFiniteMemory,\n",
              " axelrod.strategies.meta.NMWELongMemory,\n",
              " axelrod.strategies.meta.NMWEMemoryOne,\n",
              " axelrod.strategies.meta.NMWEStochastic,\n",
              " axelrod.strategies.meta.NiceMetaWinner,\n",
              " axelrod.strategies.meta.NiceMetaWinnerEnsemble]"
            ]
          },
          "metadata": {},
          "execution_count": 27
        }
      ]
    },
    {
      "cell_type": "markdown",
      "metadata": {
        "id": "ZwEQbFjbI5B2"
      },
      "source": [
        "### Exercise: Create a repeated game with 2 players having:\n",
        "#### I. TitForTat and Random Strategy \n",
        "#### II. Name it as match2\n",
        "#### III. Run it for 15 turns"
      ]
    },
    {
      "cell_type": "code",
      "metadata": {
        "id": "M8tlSW99I5B3",
        "colab": {
          "base_uri": "https://localhost:8080/"
        },
        "outputId": "7d821a66-8010-4d02-8444-0f02945573c9"
      },
      "source": [
        "players = (axl.TitForTat(),axl.Random())                  \n",
        "match2 =  axl.Match(players, turns=15)                           \n",
        "match2.play()"
      ],
      "execution_count": 29,
      "outputs": [
        {
          "output_type": "execute_result",
          "data": {
            "text/plain": [
              "[(C, D),\n",
              " (D, C),\n",
              " (C, C),\n",
              " (C, D),\n",
              " (D, C),\n",
              " (C, C),\n",
              " (C, D),\n",
              " (D, C),\n",
              " (C, C),\n",
              " (C, C),\n",
              " (C, C),\n",
              " (C, C),\n",
              " (C, D),\n",
              " (D, D),\n",
              " (D, C)]"
            ]
          },
          "metadata": {},
          "execution_count": 29
        }
      ]
    },
    {
      "cell_type": "markdown",
      "metadata": {
        "id": "8hZOv2xQI5B_"
      },
      "source": [
        "## 7. Analyze Match"
      ]
    },
    {
      "cell_type": "code",
      "metadata": {
        "id": "eD9qeCgEI5B_",
        "colab": {
          "base_uri": "https://localhost:8080/"
        },
        "outputId": "4c29eb90-4b84-49fd-9222-c1b1fe3f58d5"
      },
      "source": [
        "# Payoffs\n",
        "\n",
        "match1.game        #Analyze the match\n",
        "\n",
        "#These payoffs are commonly referred to as:\n",
        "\n",
        "#R: the Reward payoff (default value in the library: 3) C-C\n",
        "#P: the Punishment payoff (default value in the library: 1) D-D\n",
        "#S: the Loss payoff (default value in the library: 0) C-D\n",
        "#T: the Temptation payoff (default value in the library: 5) D-C"
      ],
      "execution_count": 30,
      "outputs": [
        {
          "output_type": "execute_result",
          "data": {
            "text/plain": [
              "Axelrod game: (R,P,S,T) = (3, 1, 0, 5)"
            ]
          },
          "metadata": {},
          "execution_count": 30
        }
      ]
    },
    {
      "cell_type": "code",
      "metadata": {
        "id": "xs7rQEyZI5CC",
        "colab": {
          "base_uri": "https://localhost:8080/"
        },
        "outputId": "264d42d3-6dfd-4df7-b515-394e3346b006"
      },
      "source": [
        "# Scores of a match\n",
        "\n",
        "match1.scores()     #Retrieve match scores"
      ],
      "execution_count": 31,
      "outputs": [
        {
          "output_type": "execute_result",
          "data": {
            "text/plain": [
              "[(3, 3), (0, 5), (3, 3), (0, 5), (3, 3)]"
            ]
          },
          "metadata": {},
          "execution_count": 31
        }
      ]
    },
    {
      "cell_type": "code",
      "metadata": {
        "id": "zCkP68lJI5CF",
        "colab": {
          "base_uri": "https://localhost:8080/"
        },
        "outputId": "945af54e-e406-419f-a61a-0886ea696bcb"
      },
      "source": [
        "# The result of the match can also be viewed as sparklines where cooperation is shown as a solid block and defection as a space. \n",
        "\n",
        "print(match1.sparklines())  # Get output using sparklines"
      ],
      "execution_count": 32,
      "outputs": [
        {
          "output_type": "stream",
          "name": "stdout",
          "text": [
            "█████\n",
            "█ █ █\n"
          ]
        }
      ]
    },
    {
      "cell_type": "markdown",
      "metadata": {
        "id": "rkbk8a-NI5CH"
      },
      "source": [
        "### Exercise: Analyze match2. \n",
        "#### Find the score and create the sparklines"
      ]
    },
    {
      "cell_type": "code",
      "metadata": {
        "id": "snBJkfDJI5CI",
        "colab": {
          "base_uri": "https://localhost:8080/"
        },
        "outputId": "2375e11b-f65c-4b9b-cd3c-e14c4064cba6"
      },
      "source": [
        "match2.scores()"
      ],
      "execution_count": 34,
      "outputs": [
        {
          "output_type": "execute_result",
          "data": {
            "text/plain": [
              "[(0, 5),\n",
              " (5, 0),\n",
              " (3, 3),\n",
              " (0, 5),\n",
              " (5, 0),\n",
              " (3, 3),\n",
              " (0, 5),\n",
              " (5, 0),\n",
              " (3, 3),\n",
              " (3, 3),\n",
              " (3, 3),\n",
              " (3, 3),\n",
              " (0, 5),\n",
              " (1, 1),\n",
              " (5, 0)]"
            ]
          },
          "metadata": {},
          "execution_count": 34
        }
      ]
    },
    {
      "cell_type": "code",
      "metadata": {
        "id": "0665Gwk4I5CL",
        "colab": {
          "base_uri": "https://localhost:8080/"
        },
        "outputId": "e4b96cf4-a4f0-4786-8d88-71fc996cdaa1"
      },
      "source": [
        "print(match2.sparklines())"
      ],
      "execution_count": 35,
      "outputs": [
        {
          "output_type": "stream",
          "name": "stdout",
          "text": [
            "█ ██ ██ █████  \n",
            " ██ ██ █████  █\n"
          ]
        }
      ]
    },
    {
      "cell_type": "markdown",
      "metadata": {
        "id": "B9h2o5YmI5CP"
      },
      "source": [
        "#### References:\n",
        "\n",
        "Package Documentations\n",
        "\n",
        "https://nashpy.readthedocs.io/en/stable/index.html#\n",
        "\n",
        "https://axelrod.readthedocs.io/en/stable/#"
      ]
    }
  ]
}